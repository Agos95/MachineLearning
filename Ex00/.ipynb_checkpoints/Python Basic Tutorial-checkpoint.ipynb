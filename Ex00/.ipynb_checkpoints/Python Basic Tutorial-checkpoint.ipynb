{
 "cells": [
  {
   "cell_type": "markdown",
   "metadata": {},
   "source": [
    "In this notebook we are going to see some fundamentals of Python and of the related packages (Numpy, Scikit-learn, etc.) "
   ]
  },
  {
   "cell_type": "markdown",
   "metadata": {},
   "source": [
    "# Numbers"
   ]
  },
  {
   "cell_type": "code",
   "execution_count": 5,
   "metadata": {},
   "outputs": [
    {
     "name": "stdout",
     "output_type": "stream",
     "text": [
      "1\n"
     ]
    }
   ],
   "source": [
    "x = 1\n",
    "print(x)"
   ]
  },
  {
   "cell_type": "markdown",
   "metadata": {},
   "source": [
    "In Python 3 the division always returns a float"
   ]
  },
  {
   "cell_type": "code",
   "execution_count": 9,
   "metadata": {},
   "outputs": [
    {
     "name": "stdout",
     "output_type": "stream",
     "text": [
      "1.5\n"
     ]
    }
   ],
   "source": [
    "x = 3.0\n",
    "y = 2.0\n",
    "print(x/y)"
   ]
  },
  {
   "cell_type": "code",
   "execution_count": 10,
   "metadata": {},
   "outputs": [
    {
     "name": "stdout",
     "output_type": "stream",
     "text": [
      "value of x:  3  type of x:  <class 'int'>\n",
      "value of z:  1.5  type of z:  <class 'float'>\n"
     ]
    }
   ],
   "source": [
    "x = 3\n",
    "y = 2\n",
    "z = x/y\n",
    "print('value of x: ', x, ' type of x: ', type(x) )\n",
    "print('value of z: ', z, ' type of z: ', type(z))"
   ]
  },
  {
   "cell_type": "markdown",
   "metadata": {},
   "source": [
    "The // command performs integer division (in general notice the different behaviour of division in Python 2 and Python 3)"
   ]
  },
  {
   "cell_type": "code",
   "execution_count": 13,
   "metadata": {},
   "outputs": [
    {
     "name": "stdout",
     "output_type": "stream",
     "text": [
      "value of z:  1  type of z:  <class 'int'>\n",
      "value of z:  1.0  type of z:  <class 'float'>\n"
     ]
    }
   ],
   "source": [
    "x = 3\n",
    "y = 2\n",
    "z = x // y\n",
    "print('value of z: ', z, ' type of z: ', type(z))\n",
    "\n",
    "x = 3.0\n",
    "y = 2.0\n",
    "z = x // y\n",
    "print('value of z: ', z, ' type of z: ', type(z))"
   ]
  },
  {
   "cell_type": "markdown",
   "metadata": {},
   "source": [
    "# Lists"
   ]
  },
  {
   "cell_type": "markdown",
   "metadata": {},
   "source": [
    "The list is ordered and elements can be added and removed"
   ]
  },
  {
   "cell_type": "code",
   "execution_count": 15,
   "metadata": {},
   "outputs": [
    {
     "name": "stdout",
     "output_type": "stream",
     "text": [
      "[20, 2, -6]\n",
      "-6\n"
     ]
    }
   ],
   "source": [
    "a = [20, 2, -6]\n",
    "print(a)\n",
    "print(a[2])"
   ]
  },
  {
   "cell_type": "code",
   "execution_count": 16,
   "metadata": {},
   "outputs": [
    {
     "name": "stdout",
     "output_type": "stream",
     "text": [
      "will\n"
     ]
    }
   ],
   "source": [
    "b = ['I','will','pass','ML']\n",
    "print(b[1])"
   ]
  },
  {
   "cell_type": "code",
   "execution_count": 17,
   "metadata": {},
   "outputs": [
    {
     "name": "stdout",
     "output_type": "stream",
     "text": [
      "[]\n",
      "[]\n",
      "['I', 'will', 'pass', 'ML']\n",
      "['I', 'will', 'pass']\n"
     ]
    }
   ],
   "source": [
    "b = []\n",
    "print(b)\n",
    "b = list()\n",
    "print(b)\n",
    "b.append('I')\n",
    "b.append('will')\n",
    "b.append('pass')\n",
    "b.append('ML')\n",
    "print(b)\n",
    "b.remove('ML')\n",
    "print(b)"
   ]
  },
  {
   "cell_type": "markdown",
   "metadata": {},
   "source": [
    "range(start,end) creates an array with all the numbers from (start) to (end-1)"
   ]
  },
  {
   "cell_type": "code",
   "execution_count": 1,
   "metadata": {},
   "outputs": [
    {
     "name": "stdout",
     "output_type": "stream",
     "text": [
      "range(1, 5)\n",
      "<class 'range'>\n",
      "[1, 2, 3, 4]\n"
     ]
    }
   ],
   "source": [
    "c = range(1,5)\n",
    "print(c)\n",
    "print(type(c))\n",
    "print(list(c))"
   ]
  },
  {
   "cell_type": "markdown",
   "metadata": {},
   "source": [
    "\":\" indexing similar to Matlab (but notice that ending index value is not included)"
   ]
  },
  {
   "cell_type": "code",
   "execution_count": 3,
   "metadata": {},
   "outputs": [
    {
     "name": "stdout",
     "output_type": "stream",
     "text": [
      "[0, 1, 2, 3, 4, 5, 6, 7, 8, 9]\n",
      "[0, 1, 2, 3, 4, 5, 6, 7, 8, 9]\n",
      "[0, 1, 2, 3, 4, 5, 6, 7, 8, 9]\n",
      "[1, 2, 3, 4, 5, 6, 7, 8, 9]\n",
      "[0, 1, 2, 3, 4, 5, 6, 7, 8] last element is (end-1) !\n",
      "[3, 4, 5, 6, 7, 8, 9]\n",
      "[0, 1, 2, 3, 4, 5, 6]\n",
      "[0, 1, 2, 3, 4, 5, 6, 7]\n"
     ]
    }
   ],
   "source": [
    "d = [0,1,2,3,4,5,6,7,8,9]\n",
    "print(d)\n",
    "print(d[0:10])\n",
    "print(d[:])\n",
    "print(d[1:10])\n",
    "print(d[0:9], 'last element is (end-1) !')\n",
    "print(d[3:])\n",
    "print(d[:7])\n",
    "print(d[:-2])"
   ]
  },
  {
   "cell_type": "markdown",
   "metadata": {},
   "source": [
    "# Dictionaries"
   ]
  },
  {
   "cell_type": "markdown",
   "metadata": {},
   "source": [
    "A dictionary is a collection which is unordered, changeable and indexed. In Python dictionaries are written with curly brackets, and they have keys and values."
   ]
  },
  {
   "cell_type": "code",
   "execution_count": 5,
   "metadata": {},
   "outputs": [
    {
     "name": "stdout",
     "output_type": "stream",
     "text": [
      "{'Pietro': 22, 'Umberto': 18, 'Davide': 30}\n"
     ]
    }
   ],
   "source": [
    "name2grade = dict()\n",
    "name2grade['Pietro'] = 22\n",
    "name2grade['Umberto'] = 18\n",
    "name2grade['Davide'] = 30\n",
    "print(name2grade)"
   ]
  },
  {
   "cell_type": "code",
   "execution_count": 26,
   "metadata": {},
   "outputs": [
    {
     "name": "stdout",
     "output_type": "stream",
     "text": [
      "{'Pietro': 22, 'Umberto': 18, 'Davide': 30}\n"
     ]
    }
   ],
   "source": [
    "name2grade = {'Pietro': 22, 'Umberto': 18, 'Davide' : 30}\n",
    "print(name2grade)"
   ]
  },
  {
   "cell_type": "code",
   "execution_count": 27,
   "metadata": {},
   "outputs": [
    {
     "name": "stdout",
     "output_type": "stream",
     "text": [
      "18\n"
     ]
    }
   ],
   "source": [
    "print(name2grade['Umberto'])"
   ]
  },
  {
   "cell_type": "code",
   "execution_count": 28,
   "metadata": {},
   "outputs": [
    {
     "name": "stdout",
     "output_type": "stream",
     "text": [
      "dict_keys(['Pietro', 'Umberto', 'Davide'])\n"
     ]
    }
   ],
   "source": [
    "print(name2grade.keys())"
   ]
  },
  {
   "cell_type": "code",
   "execution_count": 29,
   "metadata": {},
   "outputs": [
    {
     "name": "stdout",
     "output_type": "stream",
     "text": [
      "{'Pietro': 22, 'Davide': 30}\n"
     ]
    }
   ],
   "source": [
    "del name2grade['Umberto']\n",
    "print(name2grade)"
   ]
  },
  {
   "cell_type": "markdown",
   "metadata": {},
   "source": [
    "# Sets"
   ]
  },
  {
   "cell_type": "markdown",
   "metadata": {},
   "source": [
    "Differently from lists sets have no order"
   ]
  },
  {
   "cell_type": "code",
   "execution_count": 7,
   "metadata": {},
   "outputs": [
    {
     "name": "stdout",
     "output_type": "stream",
     "text": [
      "{0, 1, 2}\n"
     ]
    }
   ],
   "source": [
    "a = set([0,1,2])\n",
    "print(a)"
   ]
  },
  {
   "cell_type": "code",
   "execution_count": 8,
   "metadata": {},
   "outputs": [
    {
     "name": "stdout",
     "output_type": "stream",
     "text": [
      "['I', 'will', 'pass', 'ML']\n",
      "b contains: {'I', 'ML', 'pass', 'will'}\n"
     ]
    }
   ],
   "source": [
    "a = list(['I','will','pass','ML'])\n",
    "print(a)\n",
    "b = set(a)\n",
    "print('b contains:', b)"
   ]
  },
  {
   "cell_type": "code",
   "execution_count": 32,
   "metadata": {},
   "outputs": [
    {
     "name": "stdout",
     "output_type": "stream",
     "text": [
      "c contains: {'maybe', 'hopefully', 'I'}\n",
      "c contains: {'hopefully', 'I'}\n"
     ]
    }
   ],
   "source": [
    "c = set(['I'])\n",
    "c.add('hopefully')\n",
    "c.add('maybe')\n",
    "print('c contains:' , c)\n",
    "c.remove('maybe')\n",
    "print('c contains:' , c)"
   ]
  },
  {
   "cell_type": "code",
   "execution_count": 33,
   "metadata": {},
   "outputs": [
    {
     "name": "stdout",
     "output_type": "stream",
     "text": [
      "{'I', 'pass', 'hopefully', 'will', 'ML'}\n",
      "{'I'}\n",
      "{'pass', 'will', 'ML'}\n"
     ]
    }
   ],
   "source": [
    "print(b.union(c))\n",
    "print(b.intersection(c))\n",
    "print(b.difference(c))"
   ]
  },
  {
   "cell_type": "markdown",
   "metadata": {},
   "source": [
    "# Tuple\n",
    "A tuple is an (immutable) ordered list of values. A tuple is in many ways similar to a list; one of the most important differences is that tuples can be used as keys in dictionaries and as elements of sets, while lists cannot. Also notice that elements cannot be added or removed (it is immutable)"
   ]
  },
  {
   "cell_type": "code",
   "execution_count": 34,
   "metadata": {},
   "outputs": [
    {
     "name": "stdout",
     "output_type": "stream",
     "text": [
      "(5, 6)\n",
      "[5, 6]\n",
      "{(5, 6): 'ok'}\n",
      "ok\n"
     ]
    }
   ],
   "source": [
    "t = (5, 6) #tuple\n",
    "print(t)\n",
    "dt = dict()\n",
    "l = list([5,6])\n",
    "print(l)\n",
    "dt[t]='ok'\n",
    "print(dt)\n",
    "print(dt[t])"
   ]
  },
  {
   "cell_type": "markdown",
   "metadata": {},
   "source": [
    "# If-then-else"
   ]
  },
  {
   "cell_type": "code",
   "execution_count": 43,
   "metadata": {},
   "outputs": [
    {
     "name": "stdout",
     "output_type": "stream",
     "text": [
      "x > 2\n",
      "The value of x is: 3\n",
      "The value of x is: 3\n"
     ]
    }
   ],
   "source": [
    "x = 3\n",
    "if x > 2:\n",
    "    print('x > 2')\n",
    "else:\n",
    "    print('x <= 2')\n",
    "print(\"The value of x is: \" + str(x)) # + concatenate strings\n",
    "print(\"The value of x is:\" , x)"
   ]
  },
  {
   "cell_type": "code",
   "execution_count": 44,
   "metadata": {},
   "outputs": [
    {
     "name": "stdout",
     "output_type": "stream",
     "text": [
      "value of c: Good Morning !!!\n"
     ]
    }
   ],
   "source": [
    "c = 'Good Morning !!!'\n",
    "if c != \"hello\":\n",
    "    print(\"value of c: \" + c)\n",
    "else:\n",
    "    print(\"c has value hello\")"
   ]
  },
  {
   "cell_type": "code",
   "execution_count": 45,
   "metadata": {},
   "outputs": [
    {
     "name": "stdout",
     "output_type": "stream",
     "text": [
      "x is between 0 and 10 (excluded)\n"
     ]
    }
   ],
   "source": [
    "x = 9.9\n",
    "if (x > 0.0) and (x <10.0):\n",
    "    print(\"x is between 0 and 10 (excluded)\")\n",
    "else:\n",
    "    print(\"x <= 0 or x >= 10\")"
   ]
  },
  {
   "cell_type": "code",
   "execution_count": 46,
   "metadata": {},
   "outputs": [
    {
     "name": "stdout",
     "output_type": "stream",
     "text": [
      "Need to study for ML!!!\n"
     ]
    }
   ],
   "source": [
    "grade = 27.2\n",
    "course = \"Computer Vision\"\n",
    "if (grade > 26) and (not (course != \"ML\")):\n",
    "    print(\"Everything is good\")\n",
    "else:\n",
    "    print(\"Need to study for ML!!!\")"
   ]
  },
  {
   "cell_type": "markdown",
   "metadata": {},
   "source": [
    "# Iterating over elements"
   ]
  },
  {
   "cell_type": "code",
   "execution_count": 47,
   "metadata": {},
   "outputs": [
    {
     "name": "stdout",
     "output_type": "stream",
     "text": [
      "I\n",
      "will\n",
      "pass\n",
      "ML\n"
     ]
    }
   ],
   "source": [
    "x = list(['I','will','pass','ML'])\n",
    "for elem in x:\n",
    "    print(elem)"
   ]
  },
  {
   "cell_type": "code",
   "execution_count": 48,
   "metadata": {},
   "outputs": [
    {
     "name": "stdout",
     "output_type": "stream",
     "text": [
      "Number of elements:  4\n",
      "I\n",
      "will\n",
      "pass\n",
      "ML\n"
     ]
    }
   ],
   "source": [
    "x = list(['I','will','pass','ML'])\n",
    "print('Number of elements: ' , len(x))\n",
    "for i in range(len(x)):\n",
    "    print(x[i])"
   ]
  },
  {
   "cell_type": "code",
   "execution_count": 49,
   "metadata": {},
   "outputs": [
    {
     "name": "stdout",
     "output_type": "stream",
     "text": [
      "students with mark = 30:\n",
      "Davide\n",
      "Pietro\n",
      "students with mark = 26:\n",
      "Umberto\n"
     ]
    }
   ],
   "source": [
    "d = dict()\n",
    "d[30] = set(['Pietro','Davide'])\n",
    "d[26] = set(['Umberto'])\n",
    "keys = d.keys()\n",
    "for key in keys:\n",
    "             print(\"students with mark = \"+str(key)+\":\")\n",
    "             for elem in d[key]:\n",
    "                 print(elem)"
   ]
  },
  {
   "cell_type": "markdown",
   "metadata": {},
   "source": [
    "# Importing packages"
   ]
  },
  {
   "cell_type": "code",
   "execution_count": 11,
   "metadata": {},
   "outputs": [],
   "source": [
    "import scipy as sp\n",
    "import numpy as np\n",
    "import sklearn as sl"
   ]
  },
  {
   "cell_type": "markdown",
   "metadata": {},
   "source": [
    "# Arrays in numpy"
   ]
  },
  {
   "cell_type": "code",
   "execution_count": 15,
   "metadata": {},
   "outputs": [
    {
     "name": "stdout",
     "output_type": "stream",
     "text": [
      "a (vector) =\n",
      " [1. 2. 3.]\n",
      "a.shape =\n",
      " (3,)\n",
      "b (3x2 matrix) =\n",
      " [[1 2 3]\n",
      " [4 5 6]]\n",
      "b.shape =\n",
      " (2, 3)\n",
      "c (matrix with 0s) =\n",
      " [[0. 0.]\n",
      " [0. 0.]\n",
      " [0. 0.]]\n",
      "c1 (1x3 matrix) =\n",
      " [[1. 2. 3.]]\n",
      "(1, 3) notice the difference with the first example !!\n",
      "[[1. 1. 1.]\n",
      " [1. 1. 1.]]\n",
      "[[1. 0. 0. 0.]\n",
      " [0. 1. 0. 0.]\n",
      " [0. 0. 1. 0.]\n",
      " [0. 0. 0. 1.]]\n",
      "[[0.80866789 0.5867518  0.97224565 0.7374306 ]\n",
      " [0.0978382  0.80893046 0.01400941 0.84038738]]\n"
     ]
    }
   ],
   "source": [
    "#create vector given values in it\n",
    "a = np.array([1.0, 2.0, 3.0])\n",
    "print(\"a (vector) =\\n\", a)\n",
    "print(\"a.shape =\\n\", a.shape)\n",
    "#create matrix  given values in it\n",
    "b = np.array([[1, 2, 3],[4, 5, 6]])\n",
    "print(\"b (3x2 matrix) =\\n\", b)\n",
    "print(\"b.shape =\\n\", b.shape)\n",
    "#create matrix of 0's of given size\n",
    "c = np.zeros((3,2))\n",
    "print(\"c (matrix with 0s) =\\n\", c)\n",
    "#create matrix of size 1x3 (different from array of 3 elements!)\n",
    "c1 = np.zeros((1,3))\n",
    "c1[0,:] = [1, 2, 3]\n",
    "print(\"c1 (1x3 matrix) =\\n\", c1)\n",
    "print(c1.shape, 'notice the difference with the first example !!')\n",
    "#create matrix of 1's of given size\n",
    "d = np.ones((2,3))\n",
    "print(d)\n",
    "#create identity matrix of given size\n",
    "e = np.eye(4)\n",
    "print(e)\n",
    "#create random matrix (values in [0,1]) of given size\n",
    "f = np.random.random((2,4))\n",
    "print(f)"
   ]
  },
  {
   "cell_type": "markdown",
   "metadata": {},
   "source": [
    "# Array indexing in numpy"
   ]
  },
  {
   "cell_type": "code",
   "execution_count": 63,
   "metadata": {},
   "outputs": [
    {
     "name": "stdout",
     "output_type": "stream",
     "text": [
      "[[ 1  5  7  9]\n",
      " [ 2  6  8 10]]\n"
     ]
    }
   ],
   "source": [
    "e= np.array([[1,5,7,9],[2,6,8,10]]);\n",
    "print(e[:,:])"
   ]
  },
  {
   "cell_type": "code",
   "execution_count": 64,
   "metadata": {},
   "outputs": [
    {
     "name": "stdout",
     "output_type": "stream",
     "text": [
      "[[ 1  5  7  9]\n",
      " [ 2  6  8 10]]\n"
     ]
    }
   ],
   "source": [
    "print(e[:,0:4])"
   ]
  },
  {
   "cell_type": "code",
   "execution_count": 67,
   "metadata": {},
   "outputs": [
    {
     "name": "stdout",
     "output_type": "stream",
     "text": [
      "[5 6]\n"
     ]
    }
   ],
   "source": [
    "print(e[:,1])"
   ]
  },
  {
   "cell_type": "code",
   "execution_count": 68,
   "metadata": {},
   "outputs": [
    {
     "name": "stdout",
     "output_type": "stream",
     "text": [
      "[[5 7]\n",
      " [6 8]]\n"
     ]
    }
   ],
   "source": [
    "print(e[:,1:3])"
   ]
  },
  {
   "cell_type": "code",
   "execution_count": 69,
   "metadata": {},
   "outputs": [
    {
     "name": "stdout",
     "output_type": "stream",
     "text": [
      "[]\n"
     ]
    }
   ],
   "source": [
    "print(e[:,1:1])"
   ]
  },
  {
   "cell_type": "code",
   "execution_count": 70,
   "metadata": {},
   "outputs": [
    {
     "name": "stdout",
     "output_type": "stream",
     "text": [
      "[[5 7]\n",
      " [6 8]]\n"
     ]
    }
   ],
   "source": [
    "print(e[:,1:-1])"
   ]
  },
  {
   "cell_type": "code",
   "execution_count": 71,
   "metadata": {},
   "outputs": [
    {
     "name": "stdout",
     "output_type": "stream",
     "text": [
      "[5 7 9]\n"
     ]
    }
   ],
   "source": [
    "print(e[0,1:])"
   ]
  },
  {
   "cell_type": "code",
   "execution_count": 72,
   "metadata": {},
   "outputs": [
    {
     "name": "stdout",
     "output_type": "stream",
     "text": [
      "[1 5 7]\n"
     ]
    }
   ],
   "source": [
    "print(e[0,0:3])"
   ]
  },
  {
   "cell_type": "markdown",
   "metadata": {},
   "source": [
    "# Reading from file"
   ]
  },
  {
   "cell_type": "code",
   "execution_count": 91,
   "metadata": {},
   "outputs": [
    {
     "name": "stdout",
     "output_type": "stream",
     "text": [
      "1,23,21,20\n",
      "\n",
      "2,28,30,29\n",
      "\n",
      "3,25,20,29\n",
      "\n",
      "4,27,30,29\n",
      "\n",
      "5,18,22,26\n",
      "\n"
     ]
    }
   ],
   "source": [
    "file_name = \"data/marks.csv\"\n",
    "infile = open(file_name,'r')\n",
    "line_c = 0\n",
    "for line in infile:\n",
    "    if line_c <=4:\n",
    "        print(line)\n",
    "    line_c += 1\n",
    "infile.close()"
   ]
  },
  {
   "cell_type": "code",
   "execution_count": 16,
   "metadata": {},
   "outputs": [
    {
     "name": "stdout",
     "output_type": "stream",
     "text": [
      "Line:\n",
      "1,23,21,20\n",
      "\n",
      "List: ['1', '23', '21', '20']\n",
      "Elements in list:\n",
      "1\n",
      "23\n",
      "21\n",
      "20\n",
      "\n",
      "\n",
      "\n",
      "Line:\n",
      "2,28,30,29\n",
      "\n",
      "List: ['2', '28', '30', '29']\n",
      "Elements in list:\n",
      "2\n",
      "28\n",
      "30\n",
      "29\n",
      "\n",
      "\n",
      "\n",
      "Line:\n",
      "3,25,20,29\n",
      "\n",
      "List: ['3', '25', '20', '29']\n",
      "Elements in list:\n",
      "3\n",
      "25\n",
      "20\n",
      "29\n",
      "\n",
      "\n",
      "\n",
      "Line:\n",
      "4,27,30,29\n",
      "\n",
      "List: ['4', '27', '30', '29']\n",
      "Elements in list:\n",
      "4\n",
      "27\n",
      "30\n",
      "29\n",
      "\n",
      "\n",
      "\n",
      "Line:\n",
      "5,18,22,26\n",
      "\n",
      "List: ['5', '18', '22', '26']\n",
      "Elements in list:\n",
      "5\n",
      "18\n",
      "22\n",
      "26\n",
      "\n",
      "\n",
      "\n"
     ]
    }
   ],
   "source": [
    "file_name = \"data/marks.csv\"\n",
    "infile = open(file_name,'r')\n",
    "line_c = 0\n",
    "for line in infile:\n",
    "    if line_c <=4:\n",
    "        print(\"Line:\\n\"+line)\n",
    "        v = line.strip().split(',') #strip removes whitespaces and newlines characters\n",
    "        print(\"List: \"+str(v))\n",
    "        print(\"Elements in list:\")\n",
    "        for i in range(len(v)):\n",
    "            print(v[i].strip()) #strip removes whitespaces\n",
    "        print('\\n\\n')\n",
    "    line_c += 1\n",
    "infile.close()"
   ]
  },
  {
   "cell_type": "markdown",
   "metadata": {},
   "source": [
    "# Writing to file"
   ]
  },
  {
   "cell_type": "code",
   "execution_count": 93,
   "metadata": {
    "collapsed": true
   },
   "outputs": [],
   "source": [
    "infile_name = \"data/marks.csv\"\n",
    "infile = open(file_name,'r')\n",
    "line_c = 0\n",
    "outfile_name = \"tmp.txt\"\n",
    "outfile = open(outfile_name,'w')\n",
    "for line in infile:\n",
    "    if line_c <=4:\n",
    "        outfile.write(\"Line:\\n\"+line+\"\\n\")\n",
    "        v = line.split(',')\n",
    "        outfile.write(\"List: \"+str(v)+\"\\n\")\n",
    "        outfile.write(\"Elements in list:\\n\")\n",
    "        for i in range(len(v)):\n",
    "            outfile.write(v[i].strip()+\"\\n\")\n",
    "    line_c += 1\n",
    "infile.close()\n",
    "outfile.write(str(10.))\n",
    "outfile.close()"
   ]
  },
  {
   "cell_type": "markdown",
   "metadata": {},
   "source": [
    "# Reading from CSV (Comma Separated Value) file"
   ]
  },
  {
   "cell_type": "code",
   "execution_count": 94,
   "metadata": {},
   "outputs": [
    {
     "name": "stdout",
     "output_type": "stream",
     "text": [
      "['1', '23', '21', '20']\n",
      "['2', '28', '30', '29']\n",
      "['3', '25', '20', '29']\n",
      "['4', '27', '30', '29']\n",
      "['5', '18', '22', '26']\n",
      "['6', '27', '22', '22']\n",
      "['7', '25', '24', '23']\n",
      "['8', '22', '23', '26']\n",
      "['9', '21', '23', '22']\n",
      "['10', '28', '30', '29']\n"
     ]
    }
   ],
   "source": [
    "import csv\n",
    "\n",
    "filename = \"data/marks.csv\"\n",
    "\n",
    "lines = csv.reader(open(filename, newline=''), delimiter=',')\n",
    "\n",
    "for line in lines:\n",
    "    print(line)"
   ]
  },
  {
   "cell_type": "code",
   "execution_count": 97,
   "metadata": {},
   "outputs": [
    {
     "name": "stdout",
     "output_type": "stream",
     "text": [
      "[[1.0, 23.0, 21.0, 20.0], [2.0, 28.0, 30.0, 29.0], [3.0, 25.0, 20.0, 29.0], [4.0, 27.0, 30.0, 29.0], [5.0, 18.0, 22.0, 26.0], [6.0, 27.0, 22.0, 22.0], [7.0, 25.0, 24.0, 23.0], [8.0, 22.0, 23.0, 26.0], [9.0, 21.0, 23.0, 22.0], [10.0, 28.0, 30.0, 29.0]]\n",
      "Number of students: 10\n"
     ]
    }
   ],
   "source": [
    "import csv\n",
    "\n",
    "filename = \"data/marks.csv\"\n",
    "\n",
    "lines = csv.reader(open(filename, newline=''), delimiter=',')\n",
    "\n",
    "dataset = list(lines)\n",
    "for i in range(len(dataset)):\n",
    "    dataset[i] = [float(x) for x in dataset[i]]\n",
    "print(dataset)\n",
    "print('Number of students:', len(dataset))"
   ]
  },
  {
   "cell_type": "markdown",
   "metadata": {},
   "source": [
    "# Functions"
   ]
  },
  {
   "cell_type": "code",
   "execution_count": 98,
   "metadata": {},
   "outputs": [
    {
     "name": "stdout",
     "output_type": "stream",
     "text": [
      "10\n",
      "hello\n"
     ]
    }
   ],
   "source": [
    "def print_value(x):\n",
    "    print(str(x))\n",
    "\n",
    "print_value(10)\n",
    "print_value('hello')"
   ]
  },
  {
   "cell_type": "code",
   "execution_count": 99,
   "metadata": {},
   "outputs": [
    {
     "name": "stdout",
     "output_type": "stream",
     "text": [
      "1.0\n",
      "-1.0\n",
      "0.0\n"
     ]
    }
   ],
   "source": [
    "def sign(value):\n",
    "    if value > 0:\n",
    "        return 1.\n",
    "    elif value < 0:\n",
    "        return -1.\n",
    "    else:\n",
    "        return 0.\n",
    "\n",
    "print(sign(10.2))\n",
    "print(sign(-0.6))\n",
    "print(sign(0))"
   ]
  },
  {
   "cell_type": "markdown",
   "metadata": {},
   "source": [
    "# Assignment\n",
    "\n",
    "1) Load the provided .csv file with the used car data\n",
    "\n",
    "2) Use a linear regression to estimate the car prices from the year, kilometers or engine power. You can make a simple 1D regression from each one of the parameters independently (as an optional task you can also try a 2D or 3D regression combining multiple cues)\n",
    "\n",
    "3) Firstly perform the estimation using the scipy linregress function (or alternatively you can use the sklearn.linear_model.LinearRegression class)\n",
    "\n",
    "4) Have a look at the correlation coefficient to see which of the 3 features works better\n",
    "\n",
    "5) Then implement the least square algorithm: You should get exactly the same solution of linregress !\n",
    "\n",
    "6) Plot the data and the lines representing the output of the linregress and least square algorithms"
   ]
  },
  {
   "cell_type": "code",
   "execution_count": 6,
   "metadata": {},
   "outputs": [
    {
     "name": "stdout",
     "output_type": "stream",
     "text": [
      "x = km y = estimated price\n",
      "slope = -0.054251513309725635\n",
      "intercept = 16692.345302519738\n",
      "r_value = -0.25728674299884974\n",
      "p_value = 4.6897144107235236e-21\n",
      "std_err = 0.0056622275650525895\n"
     ]
    },
    {
     "data": {
      "image/png": "[encoded data removed]",
      "text/plain": [
       "<Figure size 432x288 with 1 Axes>"
      ]
     },
     "metadata": {
      "needs_background": "light"
     },
     "output_type": "display_data"
    },
    {
     "name": "stdout",
     "output_type": "stream",
     "text": [
      "\n",
      " --- \n",
      "\n",
      "x = year y = estimated price\n",
      "slope = 1509.0938253352238\n",
      "intercept = -3018309.4849569635\n",
      "r_value = 0.6767043169095446\n",
      "p_value = 2.07223115991105e-174\n",
      "std_err = 45.625811824073196\n"
     ]
    },
    {
     "data": {
      "image/png": "[encoded data removed]",
      "text/plain": [
       "<Figure size 432x288 with 1 Axes>"
      ]
     },
     "metadata": {
      "needs_background": "light"
     },
     "output_type": "display_data"
    },
    {
     "name": "stdout",
     "output_type": "stream",
     "text": [
      "\n",
      " --- \n",
      "\n",
      "x = powerPS y = estimated price\n",
      "slope = 90.33080718820231\n",
      "intercept = -1303.912698987995\n",
      "r_value = 0.7085500315263968\n",
      "p_value = 2.670876398432412e-198\n",
      "std_err = 2.4999213289302586\n"
     ]
    },
    {
     "data": {
      "image/png": "[encoded data removed]",
      "text/plain": [
       "<Figure size 432x288 with 1 Axes>"
      ]
     },
     "metadata": {
      "needs_background": "light"
     },
     "output_type": "display_data"
    },
    {
     "name": "stdout",
     "output_type": "stream",
     "text": [
      "\n",
      " --- \n",
      "\n"
     ]
    }
   ],
   "source": [
    "%matplotlib inline\n",
    "import csv\n",
    "from scipy import stats \n",
    "import numpy as np\n",
    "import sklearn as sl\n",
    "import matplotlib.pyplot as plt\n",
    "\n",
    "# file with data\n",
    "filename = \"./data/km_year_power_price.csv\"\n",
    "\n",
    "\n",
    "lines = csv.reader(open(filename, newline=''), delimiter=',')\n",
    "\n",
    "dataset = list(lines)\n",
    "\n",
    "# Convert string to float\n",
    "for i in range(1, len(dataset)):\n",
    "    dataset[i] = [float(x) for x in dataset[i]]\n",
    "\n",
    "# Create Numpy array\n",
    "matrix = np.array(dataset[1:])\n",
    "\n",
    "label = [\"km\", \"year\", \"powerPS\", \"avgPrice\"]\n",
    "\n",
    "for i in range(0,3):\n",
    "    x = matrix[:, i]\n",
    "    y = matrix[:, 3]\n",
    "    slope, intercept, r_value, p_value, std_err = stats.linregress(x, y)\n",
    "    print(\"x =\", label[i], \"y = estimated price\")\n",
    "    print(\"slope =\", slope)\n",
    "    print(\"intercept =\", intercept)\n",
    "    print(\"r_value =\", r_value)\n",
    "    print(\"p_value =\", p_value)\n",
    "    print(\"std_err =\", std_err)\n",
    "    plt.plot(x, y, 'o', label='originaldata')\n",
    "    plt.plot(x, intercept+ slope*x, 'r', label='fittedline')\n",
    "    plt.legend() \n",
    "    plt.show()\n",
    "    \n",
    "    print(\"\\n --- \\n\")\n",
    "    \n",
    "\n"
   ]
  },
  {
   "cell_type": "code",
   "execution_count": null,
   "metadata": {},
   "outputs": [],
   "source": []
  }
 ],
 "metadata": {
  "kernelspec": {
   "display_name": "Python 3",
   "language": "python",
   "name": "python3"
  },
  "language_info": {
   "codemirror_mode": {
    "name": "ipython",
    "version": 3
   },
   "file_extension": ".py",
   "mimetype": "text/x-python",
   "name": "python",
   "nbconvert_exporter": "python",
   "pygments_lexer": "ipython3",
   "version": "3.7.1"
  }
 },
 "nbformat": 4,
 "nbformat_minor": 2
}
